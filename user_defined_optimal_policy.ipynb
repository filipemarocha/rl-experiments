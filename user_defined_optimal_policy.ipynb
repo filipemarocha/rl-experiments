{
 "cells": [
  {
   "cell_type": "code",
   "execution_count": 1,
   "metadata": {},
   "outputs": [],
   "source": [
    "import numpy as np\n",
    "import gym\n",
    "import gym_simple\n",
    "import matplotlib.pyplot as plt\n",
    "\n",
    "%matplotlib inline"
   ]
  },
  {
   "cell_type": "code",
   "execution_count": 2,
   "metadata": {},
   "outputs": [],
   "source": [
    "# Primitive actions\n",
    "actions = ['move-up', 'move-down', 'move-left', 'move-right', 'move-up-right',\n",
    "    'move-up-left', 'move-down-right', 'move-down-left', 'pick-up', 'put-down']\n",
    "# Primitive State description/ Observation:\n",
    "# Agent position (x,y)\n",
    "# Ball position (x,y)\n",
    "# Box position (x,y)\n",
    "# Agent holding: 0-Nothing, 1-Ball, 2-Box\n",
    "# Format: [x1,y1,x2,y2,x3,y3,z]\n",
    "\n",
    "# R-actions\n",
    "r_actions = ['go-to-ball', 'go-to-box', 'pick-up-ball', 'pick-up-box',\n",
    "    'put-down-ball', 'put-down-box']\n",
    "# R-State description\n",
    "# Agent to Ball distance in steps\n",
    "# Agent to Box distance in steps\n",
    "# Agent holding Ball\n",
    "# Agent holding Box"
   ]
  },
  {
   "cell_type": "code",
   "execution_count": 3,
   "metadata": {},
   "outputs": [],
   "source": [
    "# Move directions\n",
    "directions = ['up', 'down', 'left', 'right', 'up-right', 'up-left',\n",
    "    'down-right', 'down-left']\n",
    "\n",
    "def move(position, direction):\n",
    "    \"\"\"\n",
    "    Returns a new position after a move in some direction\n",
    "    \"\"\"\n",
    "    x, y = position.values()\n",
    "    if direction in ['up', 'up-right', 'up-left']:\n",
    "        x -= 1 # Moves up\n",
    "    elif direction in ['down', 'down-right', 'down-left']:\n",
    "        x += 1 # Moves down\n",
    "    if direction in ['left', 'up-left', 'down-left']:\n",
    "        y -= 1 # Moves left\n",
    "    elif direction in ['right', 'up-right', 'down-right']:\n",
    "        y +=1  # Moves right\n",
    "    return {'x':x, 'y':y}\n",
    "\n",
    "def distance_in_moves(position_a, position_b):\n",
    "    \"\"\"\n",
    "    Returns the distance in moves between two positions\n",
    "    \"\"\"\n",
    "    if abs(position_a['x'] - position_b['x']) > \\\n",
    "        abs(position_a['y'] - position_b['y']):\n",
    "        return abs(position_a['x'] - position_b['x'])\n",
    "    else:\n",
    "        return abs(position_a['y'] - position_b['y'])\n",
    "\n",
    "def go_to(position_a, position_b):\n",
    "    \"\"\"\n",
    "    Returns move action(s) to go from position a to position b\n",
    "    \"\"\"\n",
    "    distance_in_moves_a_b = distance_in_moves(position_a, position_b)\n",
    "    if position_a == position_b:\n",
    "        return None\n",
    "    else:\n",
    "        # returns move actions that decrease distance between a and b\n",
    "        return [\"move-\" + str(direction)\n",
    "        for direction in directions\n",
    "            if distance_in_moves(move(position_a, direction),position_b) <\n",
    "            distance_in_moves_a_b]"
   ]
  },
  {
   "cell_type": "code",
   "execution_count": 4,
   "metadata": {},
   "outputs": [],
   "source": [
    "# Define (Not) Optimal Policy (Optimal could be: pick up the box first in some\n",
    "# initial conditions)\n",
    "# In 4 r-actions:\n",
    "# Go to ball, pick up ball, go to box, put down ball\n",
    "\n",
    "def get_optimal_action(observation):\n",
    "    \"\"\"\n",
    "    Returns a primitive action following the optimal Policy\n",
    "    \"\"\"\n",
    "    agent_pos = {'x': observation[0], 'y': observation[1]}\n",
    "    ball_pos = {'x': observation[2], 'y': observation[3]}\n",
    "    box_pos = {'x': observation[4], 'y': observation[5]}\n",
    "    agent_holding_ball = False\n",
    "    agent_holding_box = False\n",
    "    if observation[6] == 1:\n",
    "        agent_holding_ball = True\n",
    "    elif observation[6] == 2:\n",
    "        agent_holding_box = True\n",
    "    # (Not) Optimal Policy\n",
    "    if distance_in_moves(agent_pos, ball_pos) > 0:\n",
    "        return np.random.choice(go_to(agent_pos, ball_pos))\n",
    "    elif distance_in_moves(agent_pos, ball_pos) == 0 and agent_holding_ball is False:\n",
    "        return 'pick-up'\n",
    "    elif agent_holding_ball is True and distance_in_moves(agent_pos, box_pos) > 0:\n",
    "        return np.random.choice(go_to(agent_pos, box_pos))\n",
    "    elif agent_holding_ball is True and distance_in_moves(agent_pos, box_pos) == 0:\n",
    "        return 'put-down'\n",
    "\n",
    "def get_optimal_goal_state(initial_observation):\n",
    "    \"\"\"\n",
    "    Returns the state where the goal is reached in the minimum amount of steps\n",
    "    \"\"\"\n",
    "    agent_pos = {'x': observation[0], 'y': observation[1]}\n",
    "    ball_pos = {'x': observation[2], 'y': observation[3]}\n",
    "    box_pos = {'x': observation[4], 'y': observation[5]}\n",
    "    # The agent will be where the box is initially with the ball there too\n",
    "    # not holding anything\n",
    "    return [box_pos,box_pos,box_pos,0]"
   ]
  },
  {
   "cell_type": "code",
   "execution_count": 5,
   "metadata": {},
   "outputs": [
    {
     "name": "stdout",
     "output_type": "stream",
     "text": [
      "Episode 1\n",
      "Reached the goal after 5 timesteps\n",
      "96.0\n",
      "Episode 2\n",
      "Reached the goal after 10 timesteps\n",
      "93.5\n",
      "Episode 3\n",
      "Reached the goal after 12 timesteps\n",
      "92.0\n",
      "Episode 4\n",
      "Reached the goal after 10 timesteps\n",
      "91.75\n",
      "Episode 5\n",
      "Reached the goal after 9 timesteps\n",
      "91.8\n",
      "Episode 6\n",
      "Reached the goal after 10 timesteps\n",
      "91.66666666666667\n",
      "Episode 7\n",
      "Reached the goal after 7 timesteps\n",
      "92.0\n",
      "Episode 8\n",
      "Reached the goal after 8 timesteps\n",
      "92.125\n",
      "Episode 9\n",
      "Reached the goal after 10 timesteps\n",
      "92.0\n",
      "Episode 10\n",
      "Reached the goal after 6 timesteps\n",
      "92.3\n"
     ]
    }
   ],
   "source": [
    "# Test optimal user-defined policy\n",
    "env = gym.make('PutBallInBoxEnvRandom8x8-v0')\n",
    "\n",
    "test_episodes = 10\n",
    "n_steps = 20\n",
    "\n",
    "cum_avg_reward_lst = []\n",
    "total_reward = 0\n",
    "for i_episode in range(test_episodes):\n",
    "    print(\"Episode \" + str(i_episode + 1))\n",
    "    observation,_,_,_ = env.reset()\n",
    "    for t in range(n_steps):\n",
    "        env.render()\n",
    "        action_str = get_optimal_action(observation)\n",
    "        action = actions.index(action_str)\n",
    "        observation, reward, done, info = env.step(action)\n",
    "        total_reward += reward\n",
    "        if done:\n",
    "            print(\"Reached the goal after {} timesteps\".format(t+1))\n",
    "            break\n",
    "    cum_avg_reward = total_reward/(i_episode + 1)\n",
    "    cum_avg_reward_lst.append(cum_avg_reward)\n",
    "    print(cum_avg_reward)"
   ]
  },
  {
   "cell_type": "code",
   "execution_count": 6,
   "metadata": {},
   "outputs": [
    {
     "data": {
      "image/png": "[encoded data removed]",
      "text/plain": [
       "<Figure size 432x288 with 1 Axes>"
      ]
     },
     "metadata": {},
     "output_type": "display_data"
    }
   ],
   "source": [
    "plt.plot(cum_avg_reward_lst)\n",
    "plt.ylabel('Avg cumulative reward')\n",
    "plt.xlabel('Episodes')\n",
    "plt.show()"
   ]
  },
  {
   "cell_type": "code",
   "execution_count": null,
   "metadata": {},
   "outputs": [],
   "source": []
  }
 ],
 "metadata": {
  "kernelspec": {
   "display_name": "Python 3",
   "language": "python",
   "name": "python3"
  },
  "language_info": {
   "codemirror_mode": {
    "name": "ipython",
    "version": 3
   },
   "file_extension": ".py",
   "mimetype": "text/x-python",
   "name": "python",
   "nbconvert_exporter": "python",
   "pygments_lexer": "ipython3",
   "version": "3.6.5"
  }
 },
 "nbformat": 4,
 "nbformat_minor": 2
}
